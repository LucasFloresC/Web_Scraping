{
 "cells": [
  {
   "cell_type": "code",
   "execution_count": 1,
   "metadata": {},
   "outputs": [],
   "source": [
    "from bs4 import BeautifulSoup\n",
    "import requests ## HTTP REQUEST\n",
    "import pandas as pd\n",
    "import numbers as np\n"
   ]
  },
  {
   "cell_type": "code",
   "execution_count": 2,
   "metadata": {},
   "outputs": [],
   "source": [
    "# Pass the URL\n",
    "url = \"https://www.billboard.com/charts/hot-100/\""
   ]
  },
  {
   "cell_type": "code",
   "execution_count": 12,
   "metadata": {},
   "outputs": [],
   "source": [
    "#def scrap(url):\n",
    "\n",
    "title = []\n",
    "artist = []\n",
    "last_week = []\n",
    "weeks_on_chart =[]\n",
    "# Request the data\n",
    "requests.get(url)\n",
    "headers={\"User-Agent\":\"MiAplicacion/1.0\"}\n",
    "response = requests.get(url,headers=headers).content\n",
    "soup = BeautifulSoup(response, \"html.parser\")\n",
    "\n",
    "    # Find the titles\n",
    "for i in soup.select(\"li h3\"):\n",
    "    title.append(i.get_text())\n",
    "\n",
    "for i in range(len(title)):\n",
    "   title[i] = title[i].rstrip()\n",
    "   title[i] = title[i].lstrip()\n",
    "\n",
    "title = title[:100]\n",
    "\n",
    "for i in soup.select(\"ul li ul li span\")[::7]:\n",
    "    artist.append(i.get_text())\n",
    "\n",
    "for i in range(len(artist)):\n",
    "    artist[i] = artist[i].rstrip()\n",
    "    artist[i] = artist[i].lstrip()\n",
    "\n",
    "\n",
    "for i in soup.select(\"li ul li span\",\n",
    "                     class_ = \"c-label  a-font-primary-bold-l a-font-primary-m@mobile-max u-font-weight-normal@mobile-max lrv-u-padding-tb-050@mobile-max u-font-size-32@tablet\")[1::7]:\n",
    "    last_week.append(i.get_text())\n",
    "\n",
    "for i in range(len(last_week)):\n",
    "    last_week[i] = last_week[i].rstrip()\n",
    "    last_week[i] = last_week[i].lstrip()\n",
    "\n",
    "for i in soup.select(\"li ul li span\",\n",
    "                     class_ = \"c-label  a-font-primary-bold-l a-font-primary-m@mobile-max u-font-weight-normal@mobile-max lrv-u-padding-tb-050@mobile-max u-font-size-32@tablet\")[3::7]:\n",
    "    weeks_on_chart.append(i.get_text())\n",
    "\n",
    "for i in range(len(weeks_on_chart)):\n",
    "    weeks_on_chart[i] = weeks_on_chart[i].rstrip()\n",
    "    weeks_on_chart[i] = weeks_on_chart[i].lstrip()\n",
    "#for i in soup.select(\"\")\n",
    "\n",
    "#return scrapy"
   ]
  },
  {
   "cell_type": "code",
   "execution_count": 13,
   "metadata": {},
   "outputs": [
    {
     "name": "stdout",
     "output_type": "stream",
     "text": [
      "100 100 100 100\n"
     ]
    }
   ],
   "source": [
    "print(len(title),len(artist),len(last_week),len(weeks_on_chart))"
   ]
  }
 ],
 "metadata": {
  "kernelspec": {
   "display_name": "original",
   "language": "python",
   "name": "python3"
  },
  "language_info": {
   "codemirror_mode": {
    "name": "ipython",
    "version": 3
   },
   "file_extension": ".py",
   "mimetype": "text/x-python",
   "name": "python",
   "nbconvert_exporter": "python",
   "pygments_lexer": "ipython3",
   "version": "3.12.5"
  }
 },
 "nbformat": 4,
 "nbformat_minor": 2
}
